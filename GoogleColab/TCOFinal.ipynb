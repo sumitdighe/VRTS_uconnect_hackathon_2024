{
  "nbformat": 4,
  "nbformat_minor": 0,
  "metadata": {
    "colab": {
      "provenance": []
    },
    "kernelspec": {
      "name": "python3",
      "display_name": "Python 3"
    },
    "language_info": {
      "name": "python"
    }
  },
  "cells": [
    {
      "cell_type": "markdown",
      "source": [
        "# **Total Cost of Ownership (TCO) Calculator**\n",
        "\n"
      ],
      "metadata": {
        "id": "NSADrB-01kqI"
      }
    },
    {
      "cell_type": "markdown",
      "source": [
        " ### Class representing the workload characteristics of servers."
      ],
      "metadata": {
        "id": "hgYiw_D72AZn"
      }
    },
    {
      "cell_type": "code",
      "source": [
        "class ServerWorkload:\n",
        "    def __init__(self, os, server_count, cores_per_server, ram_gb, auto_scaling, iops, network_gb, backup_dedupe_ratio,latency,workload_type):\n",
        "        self.os = os\n",
        "        # self.license_type = license_type\n",
        "        self.server_count = server_count\n",
        "        self.cores_per_server = cores_per_server\n",
        "        self.ram_gb = ram_gb\n",
        "        # self.optimize_by = optimize_by\n",
        "        # self.gpu = gpu\n",
        "        self.auto_scaling = auto_scaling\n",
        "        self.iops = iops\n",
        "        self.network_gb = network_gb\n",
        "        self.backup_dedupe_ratio = backup_dedupe_ratio\n",
        "        self.latency=latency;\n",
        "        self.workload_type=workload_type"
      ],
      "metadata": {
        "id": "XE1XKk_Y4xYQ"
      },
      "execution_count": null,
      "outputs": []
    },
    {
      "cell_type": "markdown",
      "source": [
        "### Class representing the costs associated with storage"
      ],
      "metadata": {
        "id": "RwFz-oMp2Ikl"
      }
    },
    {
      "cell_type": "code",
      "source": [
        "class StorageCosts:\n",
        "    def __init__(self, total_storage_gb, annual_support_percent):\n",
        "        self.total_storage_gb = total_storage_gb\n",
        "        self.annual_support_percent = annual_support_percent"
      ],
      "metadata": {
        "id": "Rc7_ke5QHIt4"
      },
      "execution_count": null,
      "outputs": []
    },
    {
      "cell_type": "markdown",
      "source": [
        "### Class representing the labor costs"
      ],
      "metadata": {
        "id": "1slOaPoG2MEm"
      }
    },
    {
      "cell_type": "code",
      "source": [
        "class LaborCosts:\n",
        "    def __init__(self, servers_per_admin, hourly_rate):\n",
        "        self.servers_per_admin = servers_per_admin\n",
        "        self.hourly_rate = hourly_rate"
      ],
      "metadata": {
        "id": "9BBZMWhk2P5K"
      },
      "execution_count": null,
      "outputs": []
    },
    {
      "cell_type": "markdown",
      "source": [
        "### Function to collect server workload details from the user."
      ],
      "metadata": {
        "id": "iVK92LTg2TfP"
      }
    },
    {
      "cell_type": "code",
      "source": [
        "def collect_server_workload():\n",
        "    os = input(\"Operating system (Windows/Linux): \")\n",
        "    # license_type = input(\"Operating System License (Standard/Datacenter): \")\n",
        "    server_count = int(input(\"Number of servers: \"))\n",
        "    cores_per_server = int(input(\"Cores per server: \"))\n",
        "    ram_gb = int(input(\"RAM (GB): \"))\n",
        "    # optimize_by = input(\"Optimize by (CPU/GPU): \")\n",
        "    # gpu = input(\"GPU Type (None/M60/etc.): \")\n",
        "    auto_scaling = input(\"Auto scaling (Yes/No): \").lower() == 'yes'\n",
        "    iops = int(input(\"IOPS (Input/Output Operations Per Second): \"))\n",
        "    network_gb = int(input(\"Network bandwidth requirement (GB): \"))\n",
        "    backup_dedupe_ratio = float(input(\"Backup deduplication ratio (e.g., 1.2 means 20% savings): \"))\n",
        "    latency=int(input(\"Latency: \"))\n",
        "    workload_type=input(\"Workload Type: \")\n",
        "\n",
        "    return ServerWorkload(os, server_count, cores_per_server, ram_gb, auto_scaling, iops, network_gb, backup_dedupe_ratio,latency,workload_type)"
      ],
      "metadata": {
        "id": "-itLGOCzh1kg"
      },
      "execution_count": null,
      "outputs": []
    },
    {
      "cell_type": "markdown",
      "source": [
        "### Function to collect storage costs from the user"
      ],
      "metadata": {
        "id": "xyjy6XUE2aC8"
      }
    },
    {
      "cell_type": "code",
      "source": [
        "def collect_storage_costs():\n",
        "    total_storage_gb = float(input(\"Total storage (GB): \"))\n",
        "    annual_support_percent = float(input(\"Annual enterprise storage software support cost (%): \"))\n",
        "    return StorageCosts(total_storage_gb, annual_support_percent)"
      ],
      "metadata": {
        "id": "eH5YRiqc2c4F"
      },
      "execution_count": null,
      "outputs": []
    },
    {
      "cell_type": "markdown",
      "source": [
        "### Function to collect labor costs from the user."
      ],
      "metadata": {
        "id": "21w_IK6N2fnm"
      }
    },
    {
      "cell_type": "code",
      "source": [
        "def collect_labor_costs():\n",
        "    servers_per_admin = int(input(\"Number of physical servers that can be managed by a full-time administrator: \"))\n",
        "    hourly_rate = float(input(\"Hourly rate for IT administrator: \"))\n",
        "    return LaborCosts(servers_per_admin, hourly_rate)"
      ],
      "metadata": {
        "id": "MzoiPGxm2j5l"
      },
      "execution_count": null,
      "outputs": []
    },
    {
      "cell_type": "markdown",
      "source": [
        "### Function to estimate server costs."
      ],
      "metadata": {
        "id": "_yatUHbA2mo9"
      }
    },
    {
      "cell_type": "code",
      "source": [
        "def estimate_server_cost(server_workload, is_cloud):\n",
        "    cost_per_core = 20\n",
        "    cost_per_gb_ram = 0.6\n",
        "    scaling_factor = 1\n",
        "\n",
        "    core_cost = server_workload.cores_per_server * cost_per_core\n",
        "    ram_cost = server_workload.ram_gb * cost_per_gb_ram\n",
        "\n",
        "    total_cost = (core_cost + ram_cost) * server_workload.server_count * scaling_factor\n",
        "\n",
        "    return total_cost\n"
      ],
      "metadata": {
        "id": "A0BVwoHIzVkr"
      },
      "execution_count": null,
      "outputs": []
    },
    {
      "cell_type": "markdown",
      "source": [
        "### Function to estimate cloud server costs."
      ],
      "metadata": {
        "id": "rkizHYeq2p2h"
      }
    },
    {
      "cell_type": "code",
      "source": [
        "def estimate_cloud_server_cost(server_workload, cloud_provider):\n",
        "    cloud_cost_factors = {\n",
        "        'AWS': {'cost_per_core': 10, 'cost_per_gb_ram': 0.4, 'scaling_factor': 1.2},\n",
        "        'Azure': {'cost_per_core': 15, 'cost_per_gb_ram': 0.3, 'scaling_factor': 1.15},\n",
        "        'GCP': {'cost_per_core': 20, 'cost_per_gb_ram': 0.5, 'scaling_factor': 1.1}\n",
        "    }\n",
        "\n",
        "    if server_workload.auto_scaling:\n",
        "        scaling_factor = cloud_cost_factors[cloud_provider]['scaling_factor']\n",
        "    else:\n",
        "        scaling_factor = 1\n",
        "\n",
        "    core_cost = server_workload.cores_per_server * cloud_cost_factors[cloud_provider]['cost_per_core']\n",
        "    ram_cost = server_workload.ram_gb * cloud_cost_factors[cloud_provider]['cost_per_gb_ram']\n",
        "\n",
        "    total_cost = (core_cost + ram_cost) * server_workload.server_count * scaling_factor\n",
        "\n",
        "    return total_cost"
      ],
      "metadata": {
        "id": "nP_9jAQGzZPB"
      },
      "execution_count": null,
      "outputs": []
    },
    {
      "cell_type": "markdown",
      "source": [
        "### Function to estimate storage costs."
      ],
      "metadata": {
        "id": "1ovVxP582t2N"
      }
    },
    {
      "cell_type": "code",
      "source": [
        "def estimate_storage_cost(storage_costs, is_cloud):\n",
        "    if is_cloud:\n",
        "        cost_per_gb = 0.2\n",
        "    else:\n",
        "        cost_per_gb = 0.5\n",
        "\n",
        "    total_cost = storage_costs.total_storage_gb * cost_per_gb\n",
        "    total_cost += total_cost * (storage_costs.annual_support_percent / 100)\n",
        "    return total_cost"
      ],
      "metadata": {
        "id": "1FChPMlrh-ik"
      },
      "execution_count": null,
      "outputs": []
    },
    {
      "cell_type": "markdown",
      "source": [
        "### Function to estimate labor costs."
      ],
      "metadata": {
        "id": "Gx8EI5EC2wiH"
      }
    },
    {
      "cell_type": "code",
      "source": [
        "def estimate_labor_cost(labor_costs, server_workload,is_cloud):\n",
        "    if is_cloud:\n",
        "        labor_costs.hourly_rate *= 0.2\n",
        "    total_admins = server_workload.server_count / labor_costs.servers_per_admin\n",
        "    annual_salary = labor_costs.hourly_rate * 40 *50\n",
        "    total_cost = total_admins * annual_salary\n",
        "    return total_cost"
      ],
      "metadata": {
        "id": "oAnOIL_L2yAN"
      },
      "execution_count": null,
      "outputs": []
    },
    {
      "cell_type": "markdown",
      "source": [
        "### Function to generate a report of cost details."
      ],
      "metadata": {
        "id": "Knnz9qmz22I6"
      }
    },
    {
      "cell_type": "code",
      "source": [
        "import pandas as pd\n",
        "import matplotlib.pyplot as plt\n",
        "\n",
        "def generate_report(cost_details, environment):\n",
        "    import pandas as pd\n",
        "    import matplotlib.pyplot as plt\n",
        "\n",
        "    df = pd.DataFrame(list(cost_details.items()), columns=['Cost Component', f'Amount ({environment})'])\n",
        "    print(f\"Detailed Cost Report for {environment}:\")\n",
        "    print(df)\n",
        "\n",
        "    fig, ax = plt.subplots()\n",
        "    ax.pie(df[f'Amount ({environment})'], labels=df['Cost Component'], autopct='%1.1f%%', startangle=90)\n",
        "    ax.axis('equal')\n",
        "    plt.title(f'Cost Breakdown ({environment})')\n",
        "    plt.show()\n"
      ],
      "metadata": {
        "id": "l552MruSYMA5"
      },
      "execution_count": null,
      "outputs": []
    },
    {
      "cell_type": "code",
      "source": [
        "# def project_costs_over_time(server_workload, storage_costs, labor_costs, cost_projections, years=10):\n",
        "#     annual_growth_rate = 0.03  # Assuming a 3% annual growth in costs for simplicity\n",
        "\n",
        "#     projections = {provider: [cost] for provider, cost in cost_projections.items()}\n",
        "\n",
        "#     for year in range(1, years + 1):\n",
        "#         for provider in projections:\n",
        "#             next_year_cost = projections[provider][-1] * (1 + annual_growth_rate)\n",
        "#             projections[provider].append(next_year_cost)\n",
        "\n",
        "#     plt.figure(figsize=(10, 6))\n",
        "#     for provider, costs in projections.items():\n",
        "#         plt.plot(range(0, years + 1), costs, label=provider)\n",
        "\n",
        "#     plt.title('Cost Projection Over Time')\n",
        "#     plt.xlabel('Years')\n",
        "#     plt.ylabel('Total Cost')\n",
        "#     plt.legend()\n",
        "#     plt.grid(True)\n",
        "#     plt.show()\n"
      ],
      "metadata": {
        "id": "cem1Yjmx1lCu"
      },
      "execution_count": null,
      "outputs": []
    },
    {
      "cell_type": "markdown",
      "source": [
        "### Function to predict deployment CU"
      ],
      "metadata": {
        "id": "vL5qGzLF2-JE"
      }
    },
    {
      "cell_type": "code",
      "source": [
        "from joblib import load\n",
        "def predict_deployment_cu(input_data):\n",
        "    model = load('model.pkl')\n",
        "    predicted_deployment = model.predict(input_data)\n",
        "    return predicted_deployment[0]\n"
      ],
      "metadata": {
        "id": "p0AlzV44dhOe"
      },
      "execution_count": null,
      "outputs": []
    },
    {
      "cell_type": "markdown",
      "source": [
        "### Function to get all exchange rates from an API."
      ],
      "metadata": {
        "id": "2-Pn-T-13BYL"
      }
    },
    {
      "cell_type": "code",
      "source": [
        "import requests\n",
        "from dateutil.parser import parse\n",
        "\n",
        "def get_all_exchange_rates_erapi(src):\n",
        "    url = f\"https://open.er-api.com/v6/latest/{src}\"\n",
        "    data = requests.get(url).json()\n",
        "    if data[\"result\"] == \"success\":\n",
        "        last_updated_datetime = parse(data[\"time_last_update_utc\"])\n",
        "        exchange_rates = data[\"rates\"]\n",
        "    return last_updated_datetime, exchange_rates\n"
      ],
      "metadata": {
        "id": "DUTvGnnK_vrY"
      },
      "execution_count": null,
      "outputs": []
    },
    {
      "cell_type": "markdown",
      "source": [
        "### Function to convert currency."
      ],
      "metadata": {
        "id": "AqDq7ZA23D5l"
      }
    },
    {
      "cell_type": "code",
      "source": [
        "def convert_currency(amount, from_currency, to_currency):\n",
        "    _, exchange_rates = get_all_exchange_rates_erapi(from_currency)\n",
        "    return exchange_rates[to_currency] * amount"
      ],
      "metadata": {
        "id": "mNY81eRu3L--"
      },
      "execution_count": null,
      "outputs": []
    },
    {
      "cell_type": "markdown",
      "source": [
        "###Function to get currency from country."
      ],
      "metadata": {
        "id": "9sOzNkSk3Kis"
      }
    },
    {
      "cell_type": "code",
      "source": [
        "def get_currency_from_country(country):\n",
        "    country_to_currency = {\n",
        "        'United States': 'USD',\n",
        "        'Germany': 'EUR',\n",
        "        'India': 'INR',\n",
        "    }\n",
        "    return country_to_currency.get(country, 'USD')"
      ],
      "metadata": {
        "id": "Kj59cDt43TYA"
      },
      "execution_count": null,
      "outputs": []
    },
    {
      "cell_type": "markdown",
      "source": [
        "### Function to display costs in local currency."
      ],
      "metadata": {
        "id": "E9BzixBi3QO-"
      }
    },
    {
      "cell_type": "code",
      "source": [
        "def display_costs_in_local_currency(user_country,total_cost, base_currency='USD'):\n",
        "    user_currency = get_currency_from_country(user_country)\n",
        "    if base_currency != user_currency:\n",
        "        converted_cost = convert_currency(total_cost, base_currency, user_currency)\n",
        "        return converted_cost\n",
        "    else:\n",
        "        return total_cost\n"
      ],
      "metadata": {
        "id": "MMmqSl4x_k7u"
      },
      "execution_count": null,
      "outputs": []
    },
    {
      "cell_type": "markdown",
      "source": [
        "## Function to run the TCO calculator."
      ],
      "metadata": {
        "id": "wOslQ6GW3WEZ"
      }
    },
    {
      "cell_type": "code",
      "source": [
        "def run_tco_calculator():\n",
        "    server_workload = collect_server_workload()\n",
        "    storage_costs = collect_storage_costs()\n",
        "    labor_costs = collect_labor_costs()\n",
        "    country = input(\"Please enter your country: \")\n",
        "    cloud_providers = ['AWS', 'Azure', 'GCP']\n",
        "    cost_projections = {}\n",
        "    on_premises_server_cost = estimate_server_cost(server_workload, is_cloud=False)\n",
        "    on_premises_server_cost = display_costs_in_local_currency(country,on_premises_server_cost)\n",
        "    on_premises_storage_cost = estimate_storage_cost(storage_costs, is_cloud=False)\n",
        "    on_premises_storage_cost = display_costs_in_local_currency(country,on_premises_storage_cost)\n",
        "\n",
        "    on_premise_labor_cost = estimate_labor_cost(labor_costs, server_workload,is_cloud=False)\n",
        "    on_premise_labor_cost = display_costs_in_local_currency(country,on_premise_labor_cost)\n",
        "\n",
        "    for provider in cloud_providers:\n",
        "        cloud_server_cost = estimate_cloud_server_cost(server_workload, provider)\n",
        "        cloud_server_cost = display_costs_in_local_currency(country,cloud_server_cost)\n",
        "        cloud_storage_cost = estimate_storage_cost(storage_costs, is_cloud=True)\n",
        "        cloud_storage_cost = display_costs_in_local_currency(country,cloud_storage_cost)\n",
        "        cloud_labor_cost = estimate_labor_cost(labor_costs, server_workload, is_cloud=True)  # Assuming labor cost is same for both\n",
        "        cloud_labor_cost = display_costs_in_local_currency(country,cloud_labor_cost)\n",
        "        cloud_total = cloud_server_cost + cloud_storage_cost + cloud_labor_cost\n",
        "        cloud_total = display_costs_in_local_currency(country,cloud_total)\n",
        "        cost_projections[provider] = cloud_total\n",
        "        cloud_details = {'Server Cost': cloud_server_cost, 'Storage Cost': cloud_storage_cost, 'Labor Cost': cloud_labor_cost}\n",
        "\n",
        "        print(f\"Estimated annual cost for {provider}: {cloud_total:.2f}\")\n",
        "        generate_report(cloud_details, provider)\n",
        "\n",
        "    on_premises_total = on_premises_server_cost + on_premises_storage_cost + on_premise_labor_cost\n",
        "    on_premise_total = display_costs_in_local_currency(country,on_premises_total)\n",
        "    cost_projections['On-Premises'] = on_premises_total\n",
        "    on_premises_details = {'Server Cost': on_premises_server_cost, 'Storage Cost': on_premises_storage_cost, 'Labor Cost': on_premise_labor_cost}\n",
        "\n",
        "    print(f\"Estimated annual on-premises cost: {on_premises_total:.2f}\")\n",
        "    generate_report(on_premises_details, 'On-Premises')\n",
        "    # project_costs_over_time(server_workload, storage_costs, labor_costs, cost_projections, 10)\n",
        "    input_for_prediction = {\n",
        "    'IOPS': [server_workload.iops],\n",
        "    'Compute': [f\"{server_workload.cores_per_server} vCPUs\"],\n",
        "    'NetworkReq': [f\"{server_workload.network_gb} Gbps\"],\n",
        "    'BackupDedupeRatio': [server_workload.backup_dedupe_ratio],\n",
        "    'Storage': [storage_costs.total_storage_gb],\n",
        "    'RAM': [f\"{server_workload.ram_gb} GB\"],\n",
        "    'Latency': [server_workload.latency],\n",
        "    'WorkloadType': [server_workload.workload_type]\n",
        "    }\n",
        "    input_df = pd.DataFrame(input_for_prediction)\n",
        "    predicted_deployment = predict_deployment_cu(input_df)\n",
        "    print(f\"Predicted DeploymentCU: {predicted_deployment}\")\n",
        "\n",
        "\n",
        "if __name__ == \"__main__\":\n",
        "    run_tco_calculator()\n"
      ],
      "metadata": {
        "id": "gt22JuIJIcEO"
      },
      "execution_count": null,
      "outputs": []
    }
  ]
}