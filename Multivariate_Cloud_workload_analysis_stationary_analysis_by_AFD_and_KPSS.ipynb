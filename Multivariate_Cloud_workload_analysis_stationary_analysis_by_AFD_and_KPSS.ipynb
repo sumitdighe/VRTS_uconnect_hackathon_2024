{
  "nbformat": 4,
  "nbformat_minor": 0,
  "metadata": {
    "colab": {
      "provenance": []
    },
    "kernelspec": {
      "name": "python3",
      "display_name": "Python 3"
    },
    "language_info": {
      "name": "python"
    }
  },
  "cells": [
    {
      "cell_type": "code",
      "source": [
        "from google.colab import drive\n",
        "drive.mount('/content/drive')"
      ],
      "metadata": {
        "colab": {
          "base_uri": "https://localhost:8080/"
        },
        "id": "bnzR5GbzvU5w",
        "outputId": "7ca2101e-d643-4dab-877f-b77be4b9b538"
      },
      "execution_count": 2,
      "outputs": [
        {
          "output_type": "stream",
          "name": "stdout",
          "text": [
            "Mounted at /content/drive\n"
          ]
        }
      ]
    },
    {
      "cell_type": "code",
      "execution_count": 5,
      "metadata": {
        "colab": {
          "base_uri": "https://localhost:8080/"
        },
        "id": "vmnYh_quqmgZ",
        "outputId": "bfcb051c-cb54-4a5d-bd44-655877cba76b"
      },
      "outputs": [
        {
          "output_type": "stream",
          "name": "stdout",
          "text": [
            "\n",
            "Machine id:  1119618555\n",
            "ADF Statistics: -28.794847\n",
            "p-value: 0.000000\n",
            "Critical values:\n",
            "\t1%: -3.431\n",
            "\t5%: -2.862\n",
            "\t10%: -2.567\n",
            "None\n",
            "ADF Statistics: -19.426985\n",
            "p-value: 0.000000\n",
            "Critical values:\n",
            "\t1%: -3.431\n",
            "\t5%: -2.862\n",
            "\t10%: -2.567\n",
            "None\n",
            "ADF Statistics: -26.500051\n",
            "p-value: 0.000000\n",
            "Critical values:\n",
            "\t1%: -3.431\n",
            "\t5%: -2.862\n",
            "\t10%: -2.567\n",
            "None\n",
            "\n",
            "Machine id:  1093209\n",
            "ADF Statistics: -21.157517\n",
            "p-value: 0.000000\n",
            "Critical values:\n",
            "\t1%: -3.431\n",
            "\t5%: -2.862\n",
            "\t10%: -2.567\n",
            "None\n",
            "ADF Statistics: -27.256490\n",
            "p-value: 0.000000\n",
            "Critical values:\n",
            "\t1%: -3.431\n",
            "\t5%: -2.862\n",
            "\t10%: -2.567\n",
            "None\n",
            "ADF Statistics: -26.181616\n",
            "p-value: 0.000000\n",
            "Critical values:\n",
            "\t1%: -3.431\n",
            "\t5%: -2.862\n",
            "\t10%: -2.567\n",
            "None\n",
            "\n",
            "Machine id:  1094095\n",
            "ADF Statistics: -25.449001\n",
            "p-value: 0.000000\n",
            "Critical values:\n",
            "\t1%: -3.431\n",
            "\t5%: -2.862\n",
            "\t10%: -2.567\n",
            "None\n",
            "ADF Statistics: -23.370607\n",
            "p-value: 0.000000\n",
            "Critical values:\n",
            "\t1%: -3.431\n",
            "\t5%: -2.862\n",
            "\t10%: -2.567\n",
            "None\n",
            "ADF Statistics: -28.031125\n",
            "p-value: 0.000000\n",
            "Critical values:\n",
            "\t1%: -3.431\n",
            "\t5%: -2.862\n",
            "\t10%: -2.567\n",
            "None\n",
            "\n",
            "Machine id:  1094470\n",
            "ADF Statistics: -20.216757\n",
            "p-value: 0.000000\n",
            "Critical values:\n",
            "\t1%: -3.431\n",
            "\t5%: -2.862\n",
            "\t10%: -2.567\n",
            "None\n",
            "ADF Statistics: -18.565842\n",
            "p-value: 0.000000\n",
            "Critical values:\n",
            "\t1%: -3.431\n",
            "\t5%: -2.862\n",
            "\t10%: -2.567\n",
            "None\n",
            "ADF Statistics: -18.641028\n",
            "p-value: 0.000000\n",
            "Critical values:\n",
            "\t1%: -3.431\n",
            "\t5%: -2.862\n",
            "\t10%: -2.567\n",
            "None\n",
            "\n",
            "Machine id:  1093855\n",
            "ADF Statistics: -26.301317\n",
            "p-value: 0.000000\n",
            "Critical values:\n",
            "\t1%: -3.431\n",
            "\t5%: -2.862\n",
            "\t10%: -2.567\n",
            "None\n",
            "ADF Statistics: -24.278115\n",
            "p-value: 0.000000\n",
            "Critical values:\n",
            "\t1%: -3.431\n",
            "\t5%: -2.862\n",
            "\t10%: -2.567\n",
            "None\n",
            "ADF Statistics: -24.294613\n",
            "p-value: 0.000000\n",
            "Critical values:\n",
            "\t1%: -3.431\n",
            "\t5%: -2.862\n",
            "\t10%: -2.567\n",
            "None\n"
          ]
        }
      ],
      "source": [
        "import pandas as pd\n",
        "import numpy as np\n",
        "import matplotlib.pyplot as plt\n",
        "import csv\n",
        "import os\n",
        "\n",
        "from statsmodels.tsa.stattools import adfuller\n",
        "from statsmodels.tsa.stattools import kpss\n",
        "def kpss_test(df):\n",
        "    statistic, p_value, n_lags, critical_values = kpss(df.values)\n",
        "    print(f'KPSS Statistic: {statistic}')\n",
        "    print(f'p-value: {p_value}')\n",
        "    print(f'num lags: {n_lags}')\n",
        "    print('Critial Values:')\n",
        "    for key, value in critical_values.items():\n",
        "        print(f'   {key} : {value}')\n",
        "\n",
        "\n",
        "def adf_test(df):\n",
        "    result = adfuller(df.values)\n",
        "    print('ADF Statistics: %f' % result[0])\n",
        "    print('p-value: %f' % result[1])\n",
        "    print('Critical values:')\n",
        "    for key, value in result[4].items():\n",
        "        print('\\t%s: %.3f' % (key, value))\n",
        "\n",
        "\n",
        "variables = ['CPU_usage', 'Canonical_memory_usage', 'Maximum_memory_usage']\n",
        "path = '/content/drive/MyDrive/Veritas/'\n",
        "entries = os.listdir(path)\n",
        "\n",
        "for i in entries:\n",
        "    if i[:len(i) - 4] == \"data description\":\n",
        "        continue  # Skip this iteration\n",
        "    print(\"\\nMachine id: \", i[:len(i) - 4])\n",
        "    data1 = pd.read_csv(os.path.join(path, i))\n",
        "    for j in variables:\n",
        "        data = data1[[j]].diff().dropna()\n",
        "        print(adf_test(data))\n",
        "\n",
        "\n",
        "\n"
      ]
    },
    {
      "cell_type": "code",
      "source": [],
      "metadata": {
        "id": "_veQ7IhtvQ-Y"
      },
      "execution_count": null,
      "outputs": []
    }
  ]
}