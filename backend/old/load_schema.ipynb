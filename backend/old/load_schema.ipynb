{
 "cells": [
  {
   "cell_type": "code",
   "execution_count": 1,
   "id": "e39c9469",
   "metadata": {},
   "outputs": [],
   "source": [
    "import mysql.connector\n",
    "import json"
   ]
  },
  {
   "cell_type": "code",
   "execution_count": 2,
   "id": "810456ec",
   "metadata": {},
   "outputs": [],
   "source": [
    "conn = mysql.connector.connect(\n",
    "        host=\"34.16.97.93\",\n",
    "        user=\"root\",\n",
    "        password=\"123456789\",\n",
    "        database=\"CompanyInfo\"\n",
    ")"
   ]
  },
  {
   "cell_type": "code",
   "execution_count": 3,
   "id": "513b10b5",
   "metadata": {},
   "outputs": [],
   "source": [
    "cursor = conn.cursor()"
   ]
  },
  {
   "cell_type": "code",
   "execution_count": 4,
   "id": "287cba7b",
   "metadata": {},
   "outputs": [],
   "source": [
    "query = \"SELECT table_name, column_name, data_type FROM information_schema.columns WHERE table_schema = %s\"\n",
    "query2 = \"SELECT table_name, table_rows FROM information_schema.tables WHERE table_schema = %s AND table_name = %s\"\n",
    "query3 = \"SELECT * FROM permissions\""
   ]
  },
  {
   "cell_type": "code",
   "execution_count": 5,
   "id": "2d627a61",
   "metadata": {},
   "outputs": [],
   "source": [
    "table_sensitivities = dict()\n",
    "table_sensitivities[\"projects\"] = 1.0\n",
    "table_sensitivities[\"users\"] = 0.9\n",
    "table_sensitivities[\"permissions\"] = 0.8\n",
    "table_sensitivities[\"code_repo\"] = 0.7\n",
    "table_sensitivities[\"bug_logs\"] = 0.6\n",
    "table_sensitivities[\"employee\"] = 0.5\n",
    "table_sensitivities[\"project_tasks\"] = 0.4\n",
    "table_sensitivities[\"test_cases\"] = 0.4"
   ]
  },
  {
   "cell_type": "code",
   "execution_count": 6,
   "id": "f04fd83f",
   "metadata": {},
   "outputs": [],
   "source": [
    "def table_mappings(table_name):\n",
    "    if table_name == \"bug_logs\":\n",
    "        return [\"projects\"]\n",
    "    elif table_name == \"code_repo\":\n",
    "        return [\"projects\"]\n",
    "    elif table_name == \"employee\":\n",
    "        return [\"project_tasks\",\"users\",\"permissions\"]\n",
    "    elif table_name == \"permissions\":\n",
    "        return [\"users\",\"employee\"]\n",
    "    elif table_name == \"project_tasks\":\n",
    "        return [\"projects\",\"employee\"]\n",
    "    elif table_name == \"projects\":\n",
    "        return [\"code_repo\",\"project_tasks\",\"bug_logs\",\"test_cases\"]\n",
    "    elif table_name == \"test_cases\":\n",
    "        return [\"projects\"]\n",
    "    else:\n",
    "        return [\"permissions\",\"employee\"]"
   ]
  },
  {
   "cell_type": "code",
   "execution_count": 7,
   "id": "3b0a1293",
   "metadata": {},
   "outputs": [],
   "source": [
    "def save_schema_as_json(tables):\n",
    "    data = {}\n",
    "    for table in tables:\n",
    "        cursor.execute(query2,(conn.database,table))\n",
    "        row = cursor.fetchone()\n",
    "        data[table] = {}\n",
    "        data[table][\"num_rows\"] = row[1]\n",
    "        data[table][\"sensitivity\"] = table_sensitivities[table]\n",
    "        data[table][\"columns\"] = []\n",
    "        data[table][\"table_mappings\"] = table_mappings(table)\n",
    "\n",
    "    \n",
    "    cursor.execute(query,(conn.database,))\n",
    "    rows = cursor.fetchall()\n",
    "    \n",
    "    for row in rows:\n",
    "        data[row[0]][\"columns\"].append(row[1])\n",
    "        \n",
    "    return data"
   ]
  },
  {
   "cell_type": "code",
   "execution_count": 8,
   "id": "497c80fc",
   "metadata": {},
   "outputs": [],
   "source": [
    "tables = [\"bug_logs\",\"code_repo\",\"employee\",\"permissions\",\"project_tasks\",\"projects\",\"test_cases\",\"users\"]"
   ]
  },
  {
   "cell_type": "code",
   "execution_count": 9,
   "id": "48924531",
   "metadata": {},
   "outputs": [],
   "source": [
    "data = save_schema_as_json(tables)"
   ]
  },
  {
   "cell_type": "code",
   "execution_count": 10,
   "id": "8ad937f9",
   "metadata": {},
   "outputs": [],
   "source": [
    "with open(\"schema.json\", \"w\") as json_file:\n",
    "    json.dump(data, json_file)"
   ]
  },
  {
   "cell_type": "code",
   "execution_count": 1,
   "id": "0cb1042d",
   "metadata": {},
   "outputs": [],
   "source": [
    "def read_permissions_table():\n",
    "    cursor.execute(query3)\n",
    "    rows = cursor.fetchall()\n",
    "    return rows"
   ]
  },
  {
   "cell_type": "code",
   "execution_count": 12,
   "id": "93e8e205",
   "metadata": {},
   "outputs": [
    {
     "name": "stdout",
     "output_type": "stream",
     "text": [
      "[(1, 'Administrator', 'users', 1, 1, 1), (2, 'Project Manager', 'users', 0, 0, 0), (3, 'Team Lead', 'users', 0, 0, 0), (4, 'Developer', 'users', 0, 0, 0), (5, 'Quality Assurance', 'users', 0, 0, 0), (6, 'Quality Assurance', 'employee', 0, 0, 0), (7, 'Developer', 'employee', 0, 0, 0), (8, 'Team Lead', 'employee', 1, 1, 0), (9, 'Project Manager', 'employee', 1, 0, 0), (10, 'Administrator', 'employee', 1, 1, 1), (11, 'Administrator', 'code_repo', 1, 1, 1), (12, 'Project Manager', 'code_repo', 1, 0, 0), (13, 'Team Lead', 'code_repo', 1, 1, 1), (14, 'Developer', 'code_repo', 1, 1, 1), (15, 'Quality Assurance', 'code_repo', 1, 0, 0), (16, 'Administrator', 'projects', 1, 1, 1), (17, 'Project Manager', 'projects', 1, 1, 0), (18, 'Team Lead', 'projects', 1, 0, 0), (19, 'Developer', 'projects', 1, 0, 0), (20, 'Quality Assurance', 'projects', 1, 0, 0), (21, 'Quality Assurance', 'bug_logs', 1, 1, 1), (22, 'Developer', 'bug_logs', 1, 1, 0), (23, 'Team Lead', 'bug_logs', 1, 1, 0), (24, 'Project Manager', 'bug_logs', 1, 0, 0), (25, 'Administrator', 'bug_logs', 1, 1, 1), (26, 'Administrator', 'project_tasks', 0, 0, 0), (27, 'Project Manager', 'project_tasks', 1, 1, 1), (28, 'Team Lead', 'project_tasks', 1, 1, 1), (29, 'Developer', 'project_tasks', 1, 0, 0), (30, 'Quality Assurance', 'project_tasks', 1, 0, 0), (31, 'Quality Assurance', 'test_cases', 1, 1, 1), (32, 'Team Lead', 'test_cases', 1, 1, 1), (33, 'Developer', 'test_cases', 1, 0, 0), (34, 'Project Manager', 'test_cases', 1, 0, 0), (35, 'Administrator', 'test_cases', 1, 0, 0), (36, 'Administrator', 'permissions', 1, 1, 1), (37, 'Project Manager', 'permissions', 1, 0, 0), (38, 'Team Lead', 'permissions', 1, 0, 0), (39, 'Developer', 'permissions', 0, 0, 0), (40, 'Quality Assurance', 'permissions', 0, 0, 0)]\n"
     ]
    }
   ],
   "source": [
    "rows = read_permissions_table()"
   ]
  },
  {
   "cell_type": "code",
   "execution_count": 13,
   "id": "ed62324a",
   "metadata": {},
   "outputs": [],
   "source": [
    "permissions = {}\n",
    "for role in [\"Administrator\",\"Project Manager\",\"Team Lead\",\"Developer\",\"Quality Assurance\"]:\n",
    "    permissions[role] = {}"
   ]
  },
  {
   "cell_type": "code",
   "execution_count": 14,
   "id": "92cad2ef",
   "metadata": {},
   "outputs": [],
   "source": [
    "for row in rows:\n",
    "    permissions[row[1]][row[2]] = [row[3],row[4],row[5]]"
   ]
  },
  {
   "cell_type": "code",
   "execution_count": 15,
   "id": "91a5eac0",
   "metadata": {},
   "outputs": [],
   "source": [
    "with open(\"permissions.json\", \"w\") as json_file:\n",
    "    json.dump(permissions, json_file)"
   ]
  },
  {
   "cell_type": "code",
   "execution_count": null,
   "id": "6df9c18d",
   "metadata": {},
   "outputs": [],
   "source": []
  }
 ],
 "metadata": {
  "kernelspec": {
   "display_name": "Python 3 (ipykernel)",
   "language": "python",
   "name": "python3"
  },
  "language_info": {
   "codemirror_mode": {
    "name": "ipython",
    "version": 3
   },
   "file_extension": ".py",
   "mimetype": "text/x-python",
   "name": "python",
   "nbconvert_exporter": "python",
   "pygments_lexer": "ipython3",
   "version": "3.9.12"
  }
 },
 "nbformat": 4,
 "nbformat_minor": 5
}
