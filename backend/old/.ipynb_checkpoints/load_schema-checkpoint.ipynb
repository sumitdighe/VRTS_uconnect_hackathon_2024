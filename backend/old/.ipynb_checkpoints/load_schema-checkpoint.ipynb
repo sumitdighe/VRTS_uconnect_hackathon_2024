{
 "cells": [
  {
   "cell_type": "code",
   "execution_count": 1,
   "id": "e39c9469",
   "metadata": {},
   "outputs": [],
   "source": [
    "import mysql.connector\n",
    "import json"
   ]
  },
  {
   "cell_type": "code",
   "execution_count": 2,
   "id": "810456ec",
   "metadata": {},
   "outputs": [],
   "source": [
    "conn = mysql.connector.connect(\n",
    "        host=\"34.16.97.93\",\n",
    "        user=\"root\",\n",
    "        password=\"123456789\",\n",
    "        database=\"CompanyInfo\"\n",
    ")"
   ]
  },
  {
   "cell_type": "code",
   "execution_count": 3,
   "id": "513b10b5",
   "metadata": {},
   "outputs": [],
   "source": [
    "cursor = conn.cursor()"
   ]
  },
  {
   "cell_type": "code",
   "execution_count": 4,
   "id": "287cba7b",
   "metadata": {},
   "outputs": [],
   "source": [
    "query = \"SELECT table_name, column_name, data_type FROM information_schema.columns WHERE table_schema = %s\"\n",
    "query2 = \"SELECT table_name, table_rows FROM information_schema.tables WHERE table_schema = %s AND table_name = %s\"\n",
    "query3 = \"SELECT * FROM permissions\""
   ]
  },
  {
   "cell_type": "code",
   "execution_count": 5,
   "id": "2d627a61",
   "metadata": {},
   "outputs": [],
   "source": [
    "table_sensitivities = dict()\n",
    "table_sensitivities[\"projects\"] = 1.0\n",
    "table_sensitivities[\"users\"] = 0.9\n",
    "table_sensitivities[\"permissions\"] = 0.8\n",
    "table_sensitivities[\"code_repo\"] = 0.7\n",
    "table_sensitivities[\"bug_logs\"] = 0.6\n",
    "table_sensitivities[\"employee\"] = 0.5\n",
    "table_sensitivities[\"project_tasks\"] = 0.4\n",
    "table_sensitivities[\"test_cases\"] = 0.4"
   ]
  },
  {
   "cell_type": "code",
   "execution_count": 6,
   "id": "f04fd83f",
   "metadata": {},
   "outputs": [],
   "source": [
    "def table_mappings(table_name):\n",
    "    if table_name == \"bug_logs\":\n",
    "        return [\"projects\"]\n",
    "    elif table_name == \"code_repo\":\n",
    "        return [\"projects\"]\n",
    "    elif table_name == \"employee\":\n",
    "        return [\"project_tasks\",\"users\",\"permissions\"]\n",
    "    elif table_name == \"permissions\":\n",
    "        return [\"users\",\"employee\"]\n",
    "    elif table_name == \"project_tasks\":\n",
    "        return [\"projects\",\"employee\"]\n",
    "    elif table_name == \"projects\":\n",
    "        return [\"code_repo\",\"project_tasks\",\"bug_logs\",\"test_cases\"]\n",
    "    elif table_name == \"test_cases\":\n",
    "        return [\"projects\"]\n",
    "    else:\n",
    "        return [\"permissions\",\"employee\"]"
   ]
  },
  {
   "cell_type": "code",
   "execution_count": 7,
   "id": "3b0a1293",
   "metadata": {},
   "outputs": [],
   "source": [
    "def save_schema_as_json(tables):\n",
    "    data = {}\n",
    "    for table in tables:\n",
    "        cursor.execute(query2,(conn.database,table))\n",
    "        row = cursor.fetchone()\n",
    "        data[table] = {}\n",
    "        data[table][\"num_rows\"] = row[1]\n",
    "        data[table][\"sensitivity\"] = table_sensitivities[table]\n",
    "        data[table][\"columns\"] = []\n",
    "        data[table][\"table_mappings\"] = table_mappings(table)\n",
    "\n",
    "    \n",
    "    cursor.execute(query,(conn.database,))\n",
    "    rows = cursor.fetchall()\n",
    "    \n",
    "    print(rows)\n",
    "    \n",
    "    for row in rows:\n",
    "        data[row[0]][\"columns\"].append(row[1])\n",
    "        \n",
    "    return data"
   ]
  },
  {
   "cell_type": "code",
   "execution_count": 8,
   "id": "497c80fc",
   "metadata": {},
   "outputs": [],
   "source": [
    "tables = [\"bug_logs\",\"code_repo\",\"employee\",\"permissions\",\"project_tasks\",\"projects\",\"test_cases\",\"users\"]"
   ]
  },
  {
   "cell_type": "code",
   "execution_count": 9,
   "id": "48924531",
   "metadata": {},
   "outputs": [
    {
     "name": "stdout",
     "output_type": "stream",
     "text": [
      "[('auth_group', 'id', 'int'), ('auth_group', 'name', 'varchar'), ('auth_group_permissions', 'group_id', 'int'), ('auth_group_permissions', 'id', 'bigint'), ('auth_group_permissions', 'permission_id', 'int'), ('auth_permission', 'codename', 'varchar'), ('auth_permission', 'content_type_id', 'int'), ('auth_permission', 'id', 'int'), ('auth_permission', 'name', 'varchar'), ('auth_user', 'date_joined', 'datetime'), ('auth_user', 'email', 'varchar'), ('auth_user', 'first_name', 'varchar'), ('auth_user', 'id', 'int'), ('auth_user', 'is_active', 'tinyint'), ('auth_user', 'is_staff', 'tinyint'), ('auth_user', 'is_superuser', 'tinyint'), ('auth_user', 'last_login', 'datetime'), ('auth_user', 'last_name', 'varchar'), ('auth_user', 'password', 'varchar'), ('auth_user', 'username', 'varchar'), ('auth_user_groups', 'group_id', 'int'), ('auth_user_groups', 'id', 'bigint'), ('auth_user_groups', 'user_id', 'int'), ('auth_user_user_permissions', 'id', 'bigint'), ('auth_user_user_permissions', 'permission_id', 'int'), ('auth_user_user_permissions', 'user_id', 'int'), ('bug_logs', 'bug_id', 'int'), ('bug_logs', 'description', 'text'), ('bug_logs', 'employee_id', 'int'), ('bug_logs', 'project_id', 'int'), ('bug_logs', 'reported_date', 'date'), ('bug_logs', 'severity', 'varchar'), ('bug_logs', 'status', 'varchar'), ('code_repo', 'last_commit_date', 'datetime'), ('code_repo', 'project_id', 'int'), ('code_repo', 'repository_id', 'int'), ('code_repo', 'repository_name', 'varchar'), ('code_repo', 'repository_url', 'varchar'), ('django_admin_log', 'action_flag', 'smallint'), ('django_admin_log', 'action_time', 'datetime'), ('django_admin_log', 'change_message', 'longtext'), ('django_admin_log', 'content_type_id', 'int'), ('django_admin_log', 'id', 'int'), ('django_admin_log', 'object_id', 'longtext'), ('django_admin_log', 'object_repr', 'varchar'), ('django_admin_log', 'user_id', 'int'), ('django_content_type', 'app_label', 'varchar'), ('django_content_type', 'id', 'int'), ('django_content_type', 'model', 'varchar'), ('django_migrations', 'app', 'varchar'), ('django_migrations', 'applied', 'datetime'), ('django_migrations', 'id', 'bigint'), ('django_migrations', 'name', 'varchar'), ('django_session', 'expire_date', 'datetime'), ('django_session', 'session_data', 'longtext'), ('django_session', 'session_key', 'varchar'), ('employee', 'department_id', 'int'), ('employee', 'email', 'varchar'), ('employee', 'employee_id', 'int'), ('employee', 'name', 'varchar'), ('employee', 'phone_number', 'varchar'), ('employee', 'position', 'varchar'), ('employee', 'salary', 'bigint'), ('permissions', 'delete_access', 'tinyint'), ('permissions', 'permission_id', 'int'), ('permissions', 'read_access', 'tinyint'), ('permissions', 'role_name', 'varchar'), ('permissions', 'table_name', 'varchar'), ('permissions', 'write_access', 'tinyint'), ('project_tasks', 'description', 'text'), ('project_tasks', 'due_date', 'date'), ('project_tasks', 'employee_id', 'int'), ('project_tasks', 'project_id', 'int'), ('project_tasks', 'start_date', 'date'), ('project_tasks', 'status', 'varchar'), ('project_tasks', 'task_id', 'int'), ('projects', 'description', 'text'), ('projects', 'expected_end_date', 'date'), ('projects', 'name', 'varchar'), ('projects', 'project_id', 'int'), ('projects', 'start_date', 'date'), ('projects', 'status', 'varchar'), ('test_cases', 'description', 'text'), ('test_cases', 'project_id', 'int'), ('test_cases', 'result', 'text'), ('test_cases', 'test_case_id', 'int'), ('users', 'active_status', 'tinyint'), ('users', 'email', 'varchar'), ('users', 'last_login', 'datetime'), ('users', 'password', 'varchar'), ('users', 'role_name', 'varchar'), ('users', 'user_id', 'int'), ('users', 'username', 'varchar'), ('warnings', 'query', 'varchar'), ('warnings', 'status', 'varchar'), ('warnings', 'timestamp', 'datetime'), ('warnings', 'user_id', 'int'), ('warnings', 'warning_id', 'int')]\n"
     ]
    },
    {
     "ename": "KeyError",
     "evalue": "'auth_group'",
     "output_type": "error",
     "traceback": [
      "\u001b[1;31m---------------------------------------------------------------------------\u001b[0m",
      "\u001b[1;31mKeyError\u001b[0m                                  Traceback (most recent call last)",
      "Input \u001b[1;32mIn [9]\u001b[0m, in \u001b[0;36m<cell line: 1>\u001b[1;34m()\u001b[0m\n\u001b[1;32m----> 1\u001b[0m data \u001b[38;5;241m=\u001b[39m \u001b[43msave_schema_as_json\u001b[49m\u001b[43m(\u001b[49m\u001b[43mtables\u001b[49m\u001b[43m)\u001b[49m\n",
      "Input \u001b[1;32mIn [7]\u001b[0m, in \u001b[0;36msave_schema_as_json\u001b[1;34m(tables)\u001b[0m\n\u001b[0;32m     16\u001b[0m \u001b[38;5;28mprint\u001b[39m(rows)\n\u001b[0;32m     18\u001b[0m \u001b[38;5;28;01mfor\u001b[39;00m row \u001b[38;5;129;01min\u001b[39;00m rows:\n\u001b[1;32m---> 19\u001b[0m     \u001b[43mdata\u001b[49m\u001b[43m[\u001b[49m\u001b[43mrow\u001b[49m\u001b[43m[\u001b[49m\u001b[38;5;241;43m0\u001b[39;49m\u001b[43m]\u001b[49m\u001b[43m]\u001b[49m[\u001b[38;5;124m\"\u001b[39m\u001b[38;5;124mcolumns\u001b[39m\u001b[38;5;124m\"\u001b[39m]\u001b[38;5;241m.\u001b[39mappend(row[\u001b[38;5;241m1\u001b[39m])\n\u001b[0;32m     21\u001b[0m \u001b[38;5;28;01mreturn\u001b[39;00m data\n",
      "\u001b[1;31mKeyError\u001b[0m: 'auth_group'"
     ]
    }
   ],
   "source": [
    "data = save_schema_as_json(tables)"
   ]
  },
  {
   "cell_type": "code",
   "execution_count": null,
   "id": "8ad937f9",
   "metadata": {},
   "outputs": [],
   "source": [
    "with open(\"schema.json\", \"w\") as json_file:\n",
    "    json.dump(data, json_file)"
   ]
  },
  {
   "cell_type": "code",
   "execution_count": null,
   "id": "0cb1042d",
   "metadata": {},
   "outputs": [],
   "source": [
    "def read_permissions_table():\n",
    "    cursor.execute(query3)\n",
    "    rows = cursor.fetchall()\n",
    "    return rows"
   ]
  },
  {
   "cell_type": "code",
   "execution_count": null,
   "id": "93e8e205",
   "metadata": {},
   "outputs": [],
   "source": [
    "rows = read_permissions_table()"
   ]
  },
  {
   "cell_type": "code",
   "execution_count": null,
   "id": "ed62324a",
   "metadata": {},
   "outputs": [],
   "source": [
    "permissions = {}\n",
    "for role in [\"Administrator\",\"Project Manager\",\"Team Lead\",\"Developer\",\"Quality Assurance\"]:\n",
    "    permissions[role] = {}"
   ]
  },
  {
   "cell_type": "code",
   "execution_count": null,
   "id": "92cad2ef",
   "metadata": {},
   "outputs": [],
   "source": [
    "for row in rows:\n",
    "    permissions[row[1]][row[2]] = [row[3],row[4],row[5]]"
   ]
  },
  {
   "cell_type": "code",
   "execution_count": null,
   "id": "91a5eac0",
   "metadata": {},
   "outputs": [],
   "source": [
    "with open(\"permissions.json\", \"w\") as json_file:\n",
    "    json.dump(permissions, json_file)"
   ]
  },
  {
   "cell_type": "code",
   "execution_count": null,
   "id": "6df9c18d",
   "metadata": {},
   "outputs": [],
   "source": []
  }
 ],
 "metadata": {
  "kernelspec": {
   "display_name": "Python 3 (ipykernel)",
   "language": "python",
   "name": "python3"
  },
  "language_info": {
   "codemirror_mode": {
    "name": "ipython",
    "version": 3
   },
   "file_extension": ".py",
   "mimetype": "text/x-python",
   "name": "python",
   "nbconvert_exporter": "python",
   "pygments_lexer": "ipython3",
   "version": "3.9.12"
  }
 },
 "nbformat": 4,
 "nbformat_minor": 5
}
