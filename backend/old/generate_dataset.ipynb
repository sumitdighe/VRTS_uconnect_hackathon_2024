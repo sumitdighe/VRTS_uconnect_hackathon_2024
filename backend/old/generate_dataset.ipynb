{
 "cells": [
  {
   "cell_type": "code",
   "execution_count": 1,
   "id": "d67d9a7c",
   "metadata": {},
   "outputs": [],
   "source": [
    "import numpy as np\n",
    "import random\n",
    "import json\n",
    "import pandas as pd"
   ]
  },
  {
   "cell_type": "code",
   "execution_count": 2,
   "id": "2b332d9d",
   "metadata": {},
   "outputs": [],
   "source": [
    "queries = [\"SELECT\",\"INSERT\",\"UPDATE\",\"DELETE\",\"ALTER\"]\n",
    "roles = [\"Administrator\",\"Project Manager\",\"Team Lead\",\"Developer\",\"Quality Assurance\"]\n",
    "tables = [\"users\",\"permissions\",\"employee\",\"projects\",\"project_tasks\",\"bug_logs\",\"test_cases\",\"code_repo\"]"
   ]
  },
  {
   "cell_type": "code",
   "execution_count": 3,
   "id": "a830908a",
   "metadata": {},
   "outputs": [],
   "source": [
    "def read_schema_info():\n",
    "    \n",
    "    with open(\"schema.json\",\"r\") as json_file:\n",
    "        schema = json.load(json_file)\n",
    "    \n",
    "    with open(\"permissions.json\", \"r\") as json_file:\n",
    "        permissions = json.load(json_file)\n",
    "    \n",
    "    return schema, permissions"
   ]
  },
  {
   "cell_type": "code",
   "execution_count": 4,
   "id": "97f6b2db",
   "metadata": {},
   "outputs": [],
   "source": [
    "def check_access(role,permissions,table_name,query_type):\n",
    "    ind=0\n",
    "    if query_type==\"SELECT\":\n",
    "        ind=0\n",
    "    elif query_type==\"INSERT\" or query_type==\"UPDATE\":\n",
    "        ind=1\n",
    "    else:\n",
    "        ind=2\n",
    "        \n",
    "    return permissions[role][table_name][ind]"
   ]
  },
  {
   "cell_type": "code",
   "execution_count": 5,
   "id": "ae747993",
   "metadata": {},
   "outputs": [],
   "source": [
    "def get_avg_size(tables_selected,schema):\n",
    "    avg_size=0.0\n",
    "    total_size=1.0\n",
    "    \n",
    "    percent=random.uniform(0.01,1)\n",
    "    lower_limit=percent-0.05*percent; lower_limit=max(0.01,lower_limit)\n",
    "    upper_limit=percent+0.05*percent; upper_limit=min(1,upper_limit)\n",
    "    \n",
    "    for table in tables_selected:\n",
    "        size = schema[table][\"num_rows\"]\n",
    "        total_size += size\n",
    "        m=random.random()\n",
    "        if(m<0.15):\n",
    "            avg_size+=size*random.uniform(0.01,lower_limit)\n",
    "        elif(m>0.85):\n",
    "            avg_size+=size*random.uniform(upper_limit,1)\n",
    "        else:\n",
    "            avg_size+=size*random.uniform(lower_limit,upper_limit)\n",
    "    \n",
    "    return avg_size/total_size"
   ]
  },
  {
   "cell_type": "code",
   "execution_count": 6,
   "id": "499f0321",
   "metadata": {},
   "outputs": [],
   "source": [
    "def assign_role_score(role):\n",
    "    if role==\"Administrator\":\n",
    "        return 1.0\n",
    "    elif role==\"Project Manager\":\n",
    "        return 0.8\n",
    "    elif role==\"Team Lead\":\n",
    "        return 0.7\n",
    "    elif role==\"Developer\":\n",
    "        return 0.6\n",
    "    else:\n",
    "        return 0.5"
   ]
  },
  {
   "cell_type": "code",
   "execution_count": 15,
   "id": "9006c6bc",
   "metadata": {},
   "outputs": [],
   "source": [
    "queries = []\n",
    "role_column = []\n",
    "table_scores = []\n",
    "avg_data_sizes = []\n",
    "frequency_scores = []"
   ]
  },
  {
   "cell_type": "code",
   "execution_count": 16,
   "id": "9cb203c6",
   "metadata": {},
   "outputs": [],
   "source": [
    "def generate_data(query_type):\n",
    "    rows=0\n",
    "    \n",
    "    schema, permissions = read_schema_info()\n",
    "    \n",
    "    query_code=0\n",
    "    \n",
    "    if query_type == \"SELECT\":\n",
    "        rows = 600\n",
    "        query_code = 1\n",
    "    else:\n",
    "        rows = 100\n",
    "        query_code = 2\n",
    "    \n",
    "    for i in range(rows):\n",
    "        \n",
    "        role = random.choice(roles)\n",
    "        \n",
    "        role_score = assign_role_score(role)\n",
    "        \n",
    "        table = random.choice(tables)\n",
    "        \n",
    "        table_count = 1\n",
    "        \n",
    "        table_score = 0\n",
    "        \n",
    "        tables_selected = []\n",
    "        \n",
    "        access = False\n",
    "        \n",
    "        while access==False:\n",
    "            if check_access(role,permissions,table,query_type):\n",
    "                break\n",
    "                    \n",
    "            table = random.choice(tables)\n",
    "            \n",
    "        if query_type == \"SELECT\":\n",
    "            table_mappings = schema[table][\"table_mappings\"]\n",
    "            \n",
    "            allowed_tables = [table]\n",
    "            \n",
    "            for table_mapping in table_mappings:\n",
    "                if check_access(role,permissions,table_mapping,query_type):\n",
    "                    table_count += 1\n",
    "                    allowed_tables.append(table_mapping)\n",
    "            \n",
    "            tab = random.randint(1,table_count)\n",
    "            \n",
    "            while len(tables_selected) < table_count:\n",
    "                t = random.choice(allowed_tables)\n",
    "                if t not in tables_selected:\n",
    "                    tables_selected.append(t)\n",
    "            \n",
    "            for tb in tables_selected:\n",
    "                table_score += schema[tb][\"sensitivity\"]\n",
    "        \n",
    "        else:\n",
    "            tables_selected.append(table)\n",
    "            table_score += schema[table][\"sensitivity\"]\n",
    "        \n",
    "        avg_data_size = get_avg_size(tables_selected,schema)\n",
    "        \n",
    "        frequency_score = random.uniform(0.00001,14.0165348)\n",
    "        \n",
    "        queries.append(query_code)\n",
    "        role_column.append(role_score)\n",
    "        table_scores.append(table_score)\n",
    "        avg_data_sizes.append(avg_data_size)\n",
    "        frequency_scores.append(frequency_score)"
   ]
  },
  {
   "cell_type": "code",
   "execution_count": 17,
   "id": "4daf0aaa",
   "metadata": {},
   "outputs": [],
   "source": [
    "generate_data(\"SELECT\")\n",
    "generate_data(\"INSERT\")\n",
    "generate_data(\"UPDATE\")\n",
    "generate_data(\"DELETE\")"
   ]
  },
  {
   "cell_type": "code",
   "execution_count": 18,
   "id": "8ad23a2a",
   "metadata": {},
   "outputs": [],
   "source": [
    "df = pd.DataFrame()\n",
    "df[\"Query\"] = queries\n",
    "df[\"Role\"] = role_column\n",
    "df[\"Table Sensitivity\"] = table_scores\n",
    "df[\"Average Data Size\"] = avg_data_sizes\n",
    "df[\"Frequency Score\"] = frequency_scores"
   ]
  },
  {
   "cell_type": "code",
   "execution_count": 19,
   "id": "28b1b1ef",
   "metadata": {},
   "outputs": [],
   "source": [
    "df.to_csv('output.csv', index=False)"
   ]
  },
  {
   "cell_type": "code",
   "execution_count": null,
   "id": "1feaf948",
   "metadata": {},
   "outputs": [],
   "source": []
  }
 ],
 "metadata": {
  "kernelspec": {
   "display_name": "Python 3 (ipykernel)",
   "language": "python",
   "name": "python3"
  },
  "language_info": {
   "codemirror_mode": {
    "name": "ipython",
    "version": 3
   },
   "file_extension": ".py",
   "mimetype": "text/x-python",
   "name": "python",
   "nbconvert_exporter": "python",
   "pygments_lexer": "ipython3",
   "version": "3.9.12"
  }
 },
 "nbformat": 4,
 "nbformat_minor": 5
}
