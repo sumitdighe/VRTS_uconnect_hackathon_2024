{
  "nbformat": 4,
  "nbformat_minor": 0,
  "metadata": {
    "colab": {
      "provenance": []
    },
    "kernelspec": {
      "name": "python3",
      "display_name": "Python 3"
    },
    "language_info": {
      "name": "python"
    }
  },
  "cells": [
    {
      "cell_type": "code",
      "source": [
        "from google.colab import drive\n",
        "drive.mount('/content/drive')"
      ],
      "metadata": {
        "colab": {
          "base_uri": "https://localhost:8080/"
        },
        "id": "nbidir-xrYEj",
        "outputId": "89752d4f-7188-44bb-8355-cd55d5e34823"
      },
      "execution_count": 4,
      "outputs": [
        {
          "output_type": "stream",
          "name": "stdout",
          "text": [
            "Drive already mounted at /content/drive; to attempt to forcibly remount, call drive.mount(\"/content/drive\", force_remount=True).\n"
          ]
        }
      ]
    },
    {
      "cell_type": "code",
      "source": [
        "import pandas as pd\n",
        "import numpy as np\n",
        "import matplotlib.pyplot as plt\n",
        "import csv\n",
        "import os\n",
        "\n",
        "\n",
        "\n",
        "from statsmodels.tsa.stattools import grangercausalitytests\n",
        "def grangers_causation_matrix(data, variables, test='ssr_chi2test', verbose=False, max_lag=15):\n",
        "\n",
        "    df = pd.DataFrame(np.zeros((len(variables), len(variables))), columns=variables, index=variables)\n",
        "    for c in df.columns:\n",
        "        for r in df.index:\n",
        "            test_result = grangercausalitytests(data[[r, c]], maxlag=max_lag, verbose=False)\n",
        "            p_values = [round(test_result[i+1][0][test][1],4) for i in range(max_lag)]\n",
        "            if verbose: print(f'Y = {r}, X = {c}, P Values = {p_values}')\n",
        "            min_p_value = np.min(p_values)\n",
        "            df.loc[r, c] = min_p_value\n",
        "    df.columns = [var + '_x' for var in variables]\n",
        "    df.index = [var + '_y' for var in variables]\n",
        "    return df\n",
        "\n",
        "path = '/content/drive/MyDrive/Veritas'\n",
        "variable1 = 'CPU_usage'\n",
        "variable2 = 'Canonical_memory_usage'\n",
        "entries = os.listdir('/content/drive/MyDrive/Veritas')\n",
        "\n",
        "for i in entries:\n",
        "    print(\"\\nMachine id: \", i[:len(i) - 4])\n",
        "    data1 = pd.read_csv(os.path.join(path, i))\n",
        "\n",
        "    # Check column names and data structure\n",
        "    print(\"Column Names:\", data1.columns)\n",
        "    print(\"First Few Rows:\")\n",
        "    print(data1.head())\n",
        "\n",
        "    # Check if the expected columns are present\n",
        "    if variable1 in data1.columns and variable2 in data1.columns:\n",
        "        data = data1[[variable1, variable2]].diff().dropna()\n",
        "        # plt.plot(data)\n",
        "        cpdatau_transform = data.diff().dropna()\n",
        "        result = grangers_causation_matrix(data, variables=[variable1, variable2])\n",
        "        print(result)\n",
        "    else:\n",
        "        print(f\"Expected columns not found in the DataFrame for machine {i[:len(i) - 4]}.\")\n",
        "\n",
        "\n"
      ],
      "metadata": {
        "colab": {
          "base_uri": "https://localhost:8080/"
        },
        "id": "my_BisuVtPrV",
        "outputId": "793d2b92-4a4e-4988-d7b1-2bfc63b9c091"
      },
      "execution_count": 7,
      "outputs": [
        {
          "output_type": "stream",
          "name": "stdout",
          "text": [
            "\n",
            "Machine id:  1119618555\n",
            "Column Names: Index(['start-timestamp', 'finish-timestamp', 'CPU_usage',\n",
            "       'Canonical_memory_usage', 'ass_mem', 'Maximum_memory_usage'],\n",
            "      dtype='object')\n",
            "First Few Rows:\n",
            "   start-timestamp  finish-timestamp  CPU_usage  Canonical_memory_usage  \\\n",
            "0                6                 9   0.254094                0.150381   \n",
            "1                9                12   0.189707                0.141421   \n",
            "2               12                15   0.451202                0.146736   \n",
            "3               15                18   0.437253                0.152443   \n",
            "4               18                21   0.451050                0.192786   \n",
            "\n",
            "    ass_mem  Maximum_memory_usage  \n",
            "0  0.277387              0.213997  \n",
            "1  0.250407              0.180382  \n",
            "2  0.257291              0.192214  \n",
            "3  0.283122              0.192437  \n",
            "4  0.304505              0.279361  \n"
          ]
        },
        {
          "output_type": "stream",
          "name": "stderr",
          "text": [
            "/usr/local/lib/python3.10/dist-packages/statsmodels/tsa/stattools.py:1545: FutureWarning: verbose is deprecated since functions should not print results\n",
            "  warnings.warn(\n",
            "/usr/local/lib/python3.10/dist-packages/statsmodels/tsa/stattools.py:1545: FutureWarning: verbose is deprecated since functions should not print results\n",
            "  warnings.warn(\n",
            "/usr/local/lib/python3.10/dist-packages/statsmodels/tsa/stattools.py:1545: FutureWarning: verbose is deprecated since functions should not print results\n",
            "  warnings.warn(\n",
            "/usr/local/lib/python3.10/dist-packages/statsmodels/tsa/stattools.py:1545: FutureWarning: verbose is deprecated since functions should not print results\n",
            "  warnings.warn(\n"
          ]
        },
        {
          "output_type": "stream",
          "name": "stdout",
          "text": [
            "                          CPU_usage_x  Canonical_memory_usage_x\n",
            "CPU_usage_y                       1.0                    0.3775\n",
            "Canonical_memory_usage_y          0.0                    1.0000\n",
            "\n",
            "Machine id:  1093855\n",
            "Column Names: Index(['start-timestamp', 'finish-timestamp', 'CPU_usage',\n",
            "       'Canonical_memory_usage', 'ass_mem', 'Maximum_memory_usage'],\n",
            "      dtype='object')\n",
            "First Few Rows:\n",
            "   start-timestamp  finish-timestamp  CPU_usage  Canonical_memory_usage  \\\n",
            "0                6                 9   0.131503                0.167309   \n",
            "1                9                12   0.192258                0.190085   \n",
            "2               12                15   0.154146                0.187093   \n",
            "3               15                18   0.320007                0.182086   \n",
            "4               18                21   0.092898                0.168956   \n",
            "\n",
            "    ass_mem  Maximum_memory_usage  \n",
            "0  0.201223              0.170010  \n",
            "1  0.225686              0.198332  \n",
            "2  0.223561              0.191493  \n",
            "3  0.215653              0.192539  \n",
            "4  0.200545              0.169808  \n"
          ]
        },
        {
          "output_type": "stream",
          "name": "stderr",
          "text": [
            "/usr/local/lib/python3.10/dist-packages/statsmodels/tsa/stattools.py:1545: FutureWarning: verbose is deprecated since functions should not print results\n",
            "  warnings.warn(\n",
            "/usr/local/lib/python3.10/dist-packages/statsmodels/tsa/stattools.py:1545: FutureWarning: verbose is deprecated since functions should not print results\n",
            "  warnings.warn(\n",
            "/usr/local/lib/python3.10/dist-packages/statsmodels/tsa/stattools.py:1545: FutureWarning: verbose is deprecated since functions should not print results\n",
            "  warnings.warn(\n",
            "/usr/local/lib/python3.10/dist-packages/statsmodels/tsa/stattools.py:1545: FutureWarning: verbose is deprecated since functions should not print results\n",
            "  warnings.warn(\n"
          ]
        },
        {
          "output_type": "stream",
          "name": "stdout",
          "text": [
            "                          CPU_usage_x  Canonical_memory_usage_x\n",
            "CPU_usage_y                    1.0000                    0.0003\n",
            "Canonical_memory_usage_y       0.0003                    1.0000\n",
            "\n",
            "Machine id:  1094470\n",
            "Column Names: Index(['start-timestamp', 'finish-timestamp', 'CPU_usage',\n",
            "       'Canonical_memory_usage', 'ass_mem', 'Maximum_memory_usage'],\n",
            "      dtype='object')\n",
            "First Few Rows:\n",
            "   start-timestamp  finish-timestamp  CPU_usage  Canonical_memory_usage  \\\n",
            "0                6                 9   0.155916                0.332927   \n",
            "1                9                12   0.145386                0.330748   \n",
            "2               12                15   0.148028                0.332465   \n",
            "3               15                18   0.181101                0.334025   \n",
            "4               18                21   0.147902                0.330885   \n",
            "\n",
            "    ass_mem  Maximum_memory_usage  \n",
            "0  0.420719              0.336332  \n",
            "1  0.419073              0.336049  \n",
            "2  0.420769              0.337210  \n",
            "3  0.423547              0.340654  \n",
            "4  0.418319              0.336538  \n"
          ]
        },
        {
          "output_type": "stream",
          "name": "stderr",
          "text": [
            "/usr/local/lib/python3.10/dist-packages/statsmodels/tsa/stattools.py:1545: FutureWarning: verbose is deprecated since functions should not print results\n",
            "  warnings.warn(\n",
            "/usr/local/lib/python3.10/dist-packages/statsmodels/tsa/stattools.py:1545: FutureWarning: verbose is deprecated since functions should not print results\n",
            "  warnings.warn(\n",
            "/usr/local/lib/python3.10/dist-packages/statsmodels/tsa/stattools.py:1545: FutureWarning: verbose is deprecated since functions should not print results\n",
            "  warnings.warn(\n",
            "/usr/local/lib/python3.10/dist-packages/statsmodels/tsa/stattools.py:1545: FutureWarning: verbose is deprecated since functions should not print results\n",
            "  warnings.warn(\n"
          ]
        },
        {
          "output_type": "stream",
          "name": "stdout",
          "text": [
            "                          CPU_usage_x  Canonical_memory_usage_x\n",
            "CPU_usage_y                       1.0                       0.0\n",
            "Canonical_memory_usage_y          0.0                       1.0\n",
            "\n",
            "Machine id:  1094095\n",
            "Column Names: Index(['start-timestamp', 'finish-timestamp', 'CPU_usage',\n",
            "       'Canonical_memory_usage', 'ass_mem', 'Maximum_memory_usage'],\n",
            "      dtype='object')\n",
            "First Few Rows:\n",
            "   start-timestamp  finish-timestamp  CPU_usage  Canonical_memory_usage  \\\n",
            "0                6                 9   0.071227                0.424213   \n",
            "1                9                12   0.065407                0.403833   \n",
            "2               12                15   0.078301                0.401547   \n",
            "3               15                18   0.098071                0.406499   \n",
            "4               18                21   0.087041                0.401808   \n",
            "\n",
            "    ass_mem  Maximum_memory_usage  \n",
            "0  0.471992              0.425149  \n",
            "1  0.462972              0.423514  \n",
            "2  0.460251              0.402092  \n",
            "3  0.466740              0.408799  \n",
            "4  0.463061              0.402428  \n"
          ]
        },
        {
          "output_type": "stream",
          "name": "stderr",
          "text": [
            "/usr/local/lib/python3.10/dist-packages/statsmodels/tsa/stattools.py:1545: FutureWarning: verbose is deprecated since functions should not print results\n",
            "  warnings.warn(\n",
            "/usr/local/lib/python3.10/dist-packages/statsmodels/tsa/stattools.py:1545: FutureWarning: verbose is deprecated since functions should not print results\n",
            "  warnings.warn(\n",
            "/usr/local/lib/python3.10/dist-packages/statsmodels/tsa/stattools.py:1545: FutureWarning: verbose is deprecated since functions should not print results\n",
            "  warnings.warn(\n",
            "/usr/local/lib/python3.10/dist-packages/statsmodels/tsa/stattools.py:1545: FutureWarning: verbose is deprecated since functions should not print results\n",
            "  warnings.warn(\n"
          ]
        },
        {
          "output_type": "stream",
          "name": "stdout",
          "text": [
            "                          CPU_usage_x  Canonical_memory_usage_x\n",
            "CPU_usage_y                       1.0                       0.0\n",
            "Canonical_memory_usage_y          0.0                       1.0\n",
            "\n",
            "Machine id:  data description\n",
            "Column Names: Index(['this folder contatin the workload of 5 machines from google cluster data running the highest number of tasks.'], dtype='object')\n",
            "First Few Rows:\n",
            "Empty DataFrame\n",
            "Columns: [this folder contatin the workload of 5 machines from google cluster data running the highest number of tasks.]\n",
            "Index: []\n",
            "Expected columns not found in the DataFrame for machine data description.\n",
            "\n",
            "Machine id:  1093209\n",
            "Column Names: Index(['start-timestamp', 'finish-timestamp', 'CPU_usage',\n",
            "       'Canonical_memory_usage', 'ass_mem', 'Maximum_memory_usage'],\n",
            "      dtype='object')\n",
            "First Few Rows:\n",
            "   start-timestamp  finish-timestamp  CPU_usage  Canonical_memory_usage  \\\n",
            "0                6                 9   0.196190                0.233074   \n",
            "1                9                12   0.174844                0.164033   \n",
            "2               12                15   0.198212                0.167076   \n",
            "3               15                18   0.199534                0.167619   \n",
            "4               18                21   0.220755                0.167870   \n",
            "\n",
            "    ass_mem  Maximum_memory_usage  \n",
            "0  0.293347              0.244093  \n",
            "1  0.222817              0.173112  \n",
            "2  0.227177              0.179166  \n",
            "3  0.226624              0.173715  \n",
            "4  0.225788              0.173950  \n"
          ]
        },
        {
          "output_type": "stream",
          "name": "stderr",
          "text": [
            "/usr/local/lib/python3.10/dist-packages/statsmodels/tsa/stattools.py:1545: FutureWarning: verbose is deprecated since functions should not print results\n",
            "  warnings.warn(\n",
            "/usr/local/lib/python3.10/dist-packages/statsmodels/tsa/stattools.py:1545: FutureWarning: verbose is deprecated since functions should not print results\n",
            "  warnings.warn(\n",
            "/usr/local/lib/python3.10/dist-packages/statsmodels/tsa/stattools.py:1545: FutureWarning: verbose is deprecated since functions should not print results\n",
            "  warnings.warn(\n",
            "/usr/local/lib/python3.10/dist-packages/statsmodels/tsa/stattools.py:1545: FutureWarning: verbose is deprecated since functions should not print results\n",
            "  warnings.warn(\n"
          ]
        },
        {
          "output_type": "stream",
          "name": "stdout",
          "text": [
            "                          CPU_usage_x  Canonical_memory_usage_x\n",
            "CPU_usage_y                    1.0000                    0.0001\n",
            "Canonical_memory_usage_y       0.0001                    1.0000\n"
          ]
        }
      ]
    },
    {
      "cell_type": "code",
      "source": [],
      "metadata": {
        "id": "nyTqOzb2uANU"
      },
      "execution_count": null,
      "outputs": []
    }
  ]
}